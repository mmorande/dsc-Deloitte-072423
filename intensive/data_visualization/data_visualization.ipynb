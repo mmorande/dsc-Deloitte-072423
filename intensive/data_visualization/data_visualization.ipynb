{
 "cells": [
  {
   "cell_type": "markdown",
   "metadata": {
    "toc": true
   },
   "source": [
    "<h1>Table of Contents<span class=\"tocSkip\"></span></h1>\n",
    "<div class=\"toc\"><ul class=\"toc-item\"><li><span><a href=\"#Objectives\" data-toc-modified-id=\"Objectives-1\"><span class=\"toc-item-num\">1&nbsp;&nbsp;</span>Objectives</a></span></li><li><span><a href=\"#Visualization-Motivation\" data-toc-modified-id=\"Visualization-Motivation-2\"><span class=\"toc-item-num\">2&nbsp;&nbsp;</span>Visualization Motivation</a></span><ul class=\"toc-item\"><li><span><a href=\"#Why-Visualize-Data?\" data-toc-modified-id=\"Why-Visualize-Data?-2.1\"><span class=\"toc-item-num\">2.1&nbsp;&nbsp;</span>Why Visualize Data?</a></span></li><li><span><a href=\"#Dataframe-vs-Graph:-Which-do-you-prefer?\" data-toc-modified-id=\"Dataframe-vs-Graph:-Which-do-you-prefer?-2.2\"><span class=\"toc-item-num\">2.2&nbsp;&nbsp;</span>Dataframe vs Graph: Which do you prefer?</a></span></li><li><span><a href=\"#The-Effectiveness-of-Visualizations\" data-toc-modified-id=\"The-Effectiveness-of-Visualizations-2.3\"><span class=\"toc-item-num\">2.3&nbsp;&nbsp;</span>The Effectiveness of Visualizations</a></span></li></ul></li><li><span><a href=\"#What-Makes-an-Effective-Visualization?\" data-toc-modified-id=\"What-Makes-an-Effective-Visualization?-3\"><span class=\"toc-item-num\">3&nbsp;&nbsp;</span>What Makes an Effective Visualization?</a></span><ul class=\"toc-item\"><li><span><a href=\"#Anatomy-of-Visualizations\" data-toc-modified-id=\"Anatomy-of-Visualizations-3.1\"><span class=\"toc-item-num\">3.1&nbsp;&nbsp;</span>Anatomy of Visualizations</a></span><ul class=\"toc-item\"><li><span><a href=\"#Length-&amp;-Size\" data-toc-modified-id=\"Length-&amp;-Size-3.1.1\"><span class=\"toc-item-num\">3.1.1&nbsp;&nbsp;</span>Length &amp; Size</a></span></li><li><span><a href=\"#Color\" data-toc-modified-id=\"Color-3.1.2\"><span class=\"toc-item-num\">3.1.2&nbsp;&nbsp;</span>Color</a></span></li><li><span><a href=\"#Shape\" data-toc-modified-id=\"Shape-3.1.3\"><span class=\"toc-item-num\">3.1.3&nbsp;&nbsp;</span>Shape</a></span></li><li><span><a href=\"#Angle\" data-toc-modified-id=\"Angle-3.1.4\"><span class=\"toc-item-num\">3.1.4&nbsp;&nbsp;</span>Angle</a></span></li></ul></li><li><span><a href=\"#What-Types-Work-Well-Consistently\" data-toc-modified-id=\"What-Types-Work-Well-Consistently-3.2\"><span class=\"toc-item-num\">3.2&nbsp;&nbsp;</span>What Types Work Well Consistently</a></span></li><li><span><a href=\"#How-to-Lie-with-Graphs\" data-toc-modified-id=\"How-to-Lie-with-Graphs-3.3\"><span class=\"toc-item-num\">3.3&nbsp;&nbsp;</span>How to Lie with Graphs</a></span></li><li><span><a href=\"#Exercise:-Picking-Proper-Plots\" data-toc-modified-id=\"Exercise:-Picking-Proper-Plots-3.4\"><span class=\"toc-item-num\">3.4&nbsp;&nbsp;</span>Exercise: Picking Proper Plots</a></span><ul class=\"toc-item\"><li><span><a href=\"#Scenario-1\" data-toc-modified-id=\"Scenario-1-3.4.1\"><span class=\"toc-item-num\">3.4.1&nbsp;&nbsp;</span>Scenario 1</a></span></li><li><span><a href=\"#Scenario-2\" data-toc-modified-id=\"Scenario-2-3.4.2\"><span class=\"toc-item-num\">3.4.2&nbsp;&nbsp;</span>Scenario 2</a></span></li><li><span><a href=\"#Scenario-3\" data-toc-modified-id=\"Scenario-3-3.4.3\"><span class=\"toc-item-num\">3.4.3&nbsp;&nbsp;</span>Scenario 3</a></span></li></ul></li></ul></li><li><span><a href=\"#Creating-Data-Visualization-with-matplotlib\" data-toc-modified-id=\"Creating-Data-Visualization-with-matplotlib-4\"><span class=\"toc-item-num\">4&nbsp;&nbsp;</span>Creating Data Visualization with <code>matplotlib</code></a></span><ul class=\"toc-item\"><li><span><a href=\"#Anatomy-of-matplotlib-Figure\" data-toc-modified-id=\"Anatomy-of-matplotlib-Figure-4.1\"><span class=\"toc-item-num\">4.1&nbsp;&nbsp;</span>Anatomy of <code>matplotlib</code> Figure</a></span></li><li><span><a href=\"#Plotting-Syntax\" data-toc-modified-id=\"Plotting-Syntax-4.2\"><span class=\"toc-item-num\">4.2&nbsp;&nbsp;</span>Plotting Syntax</a></span><ul class=\"toc-item\"><li><span><a href=\"#Common-Charts-and-Their-Uses\" data-toc-modified-id=\"Common-Charts-and-Their-Uses-4.2.1\"><span class=\"toc-item-num\">4.2.1&nbsp;&nbsp;</span>Common Charts and Their Uses</a></span><ul class=\"toc-item\"><li><span><a href=\"#Scatter-Plots\" data-toc-modified-id=\"Scatter-Plots-4.2.1.1\"><span class=\"toc-item-num\">4.2.1.1&nbsp;&nbsp;</span>Scatter Plots</a></span></li><li><span><a href=\"#Line-Plot\" data-toc-modified-id=\"Line-Plot-4.2.1.2\"><span class=\"toc-item-num\">4.2.1.2&nbsp;&nbsp;</span>Line Plot</a></span></li><li><span><a href=\"#Histograms\" data-toc-modified-id=\"Histograms-4.2.1.3\"><span class=\"toc-item-num\">4.2.1.3&nbsp;&nbsp;</span>Histograms</a></span></li></ul></li></ul></li><li><span><a href=\"#Saving-your-figures\" data-toc-modified-id=\"Saving-your-figures-4.3\"><span class=\"toc-item-num\">4.3&nbsp;&nbsp;</span>Saving your figures</a></span></li><li><span><a href=\"#Exercise:-Customize-Your-Visualization\" data-toc-modified-id=\"Exercise:-Customize-Your-Visualization-4.4\"><span class=\"toc-item-num\">4.4&nbsp;&nbsp;</span>Exercise: Customize Your Visualization</a></span></li></ul></li><li><span><a href=\"#Multiple-Plots\" data-toc-modified-id=\"Multiple-Plots-5\"><span class=\"toc-item-num\">5&nbsp;&nbsp;</span>Multiple Plots</a></span><ul class=\"toc-item\"><li><span><a href=\"#Slightly-Different-Notation\" data-toc-modified-id=\"Slightly-Different-Notation-5.1\"><span class=\"toc-item-num\">5.1&nbsp;&nbsp;</span>Slightly Different Notation</a></span></li><li><span><a href=\"#Customize-Multiple-Plot-Grid\" data-toc-modified-id=\"Customize-Multiple-Plot-Grid-5.2\"><span class=\"toc-item-num\">5.2&nbsp;&nbsp;</span>Customize Multiple Plot Grid</a></span></li><li><span><a href=\"#Multiple-Plots-Exercise\" data-toc-modified-id=\"Multiple-Plots-Exercise-5.3\"><span class=\"toc-item-num\">5.3&nbsp;&nbsp;</span>Multiple Plots Exercise</a></span></li><li><span><a href=\"#Bonus-Exercise\" data-toc-modified-id=\"Bonus-Exercise-5.4\"><span class=\"toc-item-num\">5.4&nbsp;&nbsp;</span>Bonus Exercise</a></span></li></ul></li><li><span><a href=\"#Level-Up:-Additional-Customization\" data-toc-modified-id=\"Level-Up:-Additional-Customization-6\"><span class=\"toc-item-num\">6&nbsp;&nbsp;</span>Level Up: Additional Customization</a></span><ul class=\"toc-item\"><li><span><a href=\"#Adding-Text\" data-toc-modified-id=\"Adding-Text-6.1\"><span class=\"toc-item-num\">6.1&nbsp;&nbsp;</span>Adding Text</a></span></li><li><span><a href=\"#Style-Sheets\" data-toc-modified-id=\"Style-Sheets-6.2\"><span class=\"toc-item-num\">6.2&nbsp;&nbsp;</span>Style Sheets</a></span><ul class=\"toc-item\"><li><span><a href=\"#Context-Manager-for-Temporary-Style\" data-toc-modified-id=\"Context-Manager-for-Temporary-Style-6.2.1\"><span class=\"toc-item-num\">6.2.1&nbsp;&nbsp;</span>Context Manager for Temporary Style</a></span></li><li><span><a href=\"#The-xkcd-Style\" data-toc-modified-id=\"The-xkcd-Style-6.2.2\"><span class=\"toc-item-num\">6.2.2&nbsp;&nbsp;</span>The xkcd Style</a></span></li></ul></li></ul></li><li><span><a href=\"#Level-Up:-Seaborn\" data-toc-modified-id=\"Level-Up:-Seaborn-7\"><span class=\"toc-item-num\">7&nbsp;&nbsp;</span>Level Up: Seaborn</a></span><ul class=\"toc-item\"><li><ul class=\"toc-item\"><li><span><a href=\"#Scatter-Plot\" data-toc-modified-id=\"Scatter-Plot-7.0.1\"><span class=\"toc-item-num\">7.0.1&nbsp;&nbsp;</span>Scatter Plot</a></span></li><li><span><a href=\"#Violin-Plot\" data-toc-modified-id=\"Violin-Plot-7.0.2\"><span class=\"toc-item-num\">7.0.2&nbsp;&nbsp;</span>Violin Plot</a></span></li><li><span><a href=\"#Kernel-Density-Estimation-Plot\" data-toc-modified-id=\"Kernel-Density-Estimation-Plot-7.0.3\"><span class=\"toc-item-num\">7.0.3&nbsp;&nbsp;</span>Kernel Density Estimation Plot</a></span></li><li><span><a href=\"#Seaborn-Datasets\" data-toc-modified-id=\"Seaborn-Datasets-7.0.4\"><span class=\"toc-item-num\">7.0.4&nbsp;&nbsp;</span>Seaborn Datasets</a></span></li></ul></li></ul></li></ul></div>"
   ]
  },
  {
   "cell_type": "code",
   "execution_count": 1,
   "metadata": {},
   "outputs": [],
   "source": [
    "import seaborn as sns\n",
    "from matplotlib import pyplot as plt\n",
    "import numpy as np\n",
    "from scipy import stats\n",
    "from sklearn.datasets import load_iris\n",
    "import pandas as pd"
   ]
  },
  {
   "cell_type": "markdown",
   "metadata": {
    "heading_collapsed": true
   },
   "source": [
    "# Objectives"
   ]
  },
  {
   "cell_type": "markdown",
   "metadata": {
    "hidden": true
   },
   "source": [
    "- Choose appropriate graph types based on data and problem context for explanatory visualizations\n",
    "- Use `matplotlib` syntax to create graphs and adjust elements\n",
    "- Create figures containing multiple graphs"
   ]
  },
  {
   "cell_type": "markdown",
   "metadata": {
    "heading_collapsed": true
   },
   "source": [
    "# Visualization Motivation"
   ]
  },
  {
   "cell_type": "markdown",
   "metadata": {
    "heading_collapsed": true,
    "hidden": true
   },
   "source": [
    "## Why Visualize Data?"
   ]
  },
  {
   "cell_type": "markdown",
   "metadata": {
    "hidden": true
   },
   "source": [
    "Why can’t we just hand someone a table of data?"
   ]
  },
  {
   "cell_type": "markdown",
   "metadata": {
    "hidden": true
   },
   "source": [
    "Let's load up the iris data set.  This is a famous built-in dataset which is used to learn about categorization. "
   ]
  },
  {
   "cell_type": "code",
   "execution_count": 2,
   "metadata": {
    "hidden": true
   },
   "outputs": [],
   "source": [
    "data = load_iris()\n",
    "df_iris = pd.DataFrame(data['data'], columns=data['feature_names'])\n",
    "df_iris['target'] = data['target']"
   ]
  },
  {
   "cell_type": "markdown",
   "metadata": {
    "hidden": true
   },
   "source": [
    "Here is an image of one of the virginica iris, which is unique in its relative petal and sepal length."
   ]
  },
  {
   "cell_type": "markdown",
   "metadata": {
    "hidden": true
   },
   "source": [
    "![virginica_iris](images/iris_virginica.jpg)"
   ]
  },
  {
   "cell_type": "markdown",
   "metadata": {
    "heading_collapsed": true,
    "hidden": true
   },
   "source": [
    "## Dataframe vs Graph: Which do you prefer?"
   ]
  },
  {
   "cell_type": "code",
   "execution_count": 3,
   "metadata": {
    "hidden": true
   },
   "outputs": [
    {
     "data": {
      "text/html": [
       "<div>\n",
       "<style scoped>\n",
       "    .dataframe tbody tr th:only-of-type {\n",
       "        vertical-align: middle;\n",
       "    }\n",
       "\n",
       "    .dataframe tbody tr th {\n",
       "        vertical-align: top;\n",
       "    }\n",
       "\n",
       "    .dataframe thead th {\n",
       "        text-align: right;\n",
       "    }\n",
       "</style>\n",
       "<table border=\"1\" class=\"dataframe\">\n",
       "  <thead>\n",
       "    <tr style=\"text-align: right;\">\n",
       "      <th></th>\n",
       "      <th>sepal length (cm)</th>\n",
       "      <th>sepal width (cm)</th>\n",
       "      <th>petal length (cm)</th>\n",
       "      <th>petal width (cm)</th>\n",
       "      <th>target</th>\n",
       "    </tr>\n",
       "  </thead>\n",
       "  <tbody>\n",
       "    <tr>\n",
       "      <th>73</th>\n",
       "      <td>6.1</td>\n",
       "      <td>2.8</td>\n",
       "      <td>4.7</td>\n",
       "      <td>1.2</td>\n",
       "      <td>1</td>\n",
       "    </tr>\n",
       "    <tr>\n",
       "      <th>18</th>\n",
       "      <td>5.7</td>\n",
       "      <td>3.8</td>\n",
       "      <td>1.7</td>\n",
       "      <td>0.3</td>\n",
       "      <td>0</td>\n",
       "    </tr>\n",
       "    <tr>\n",
       "      <th>118</th>\n",
       "      <td>7.7</td>\n",
       "      <td>2.6</td>\n",
       "      <td>6.9</td>\n",
       "      <td>2.3</td>\n",
       "      <td>2</td>\n",
       "    </tr>\n",
       "    <tr>\n",
       "      <th>78</th>\n",
       "      <td>6.0</td>\n",
       "      <td>2.9</td>\n",
       "      <td>4.5</td>\n",
       "      <td>1.5</td>\n",
       "      <td>1</td>\n",
       "    </tr>\n",
       "    <tr>\n",
       "      <th>76</th>\n",
       "      <td>6.8</td>\n",
       "      <td>2.8</td>\n",
       "      <td>4.8</td>\n",
       "      <td>1.4</td>\n",
       "      <td>1</td>\n",
       "    </tr>\n",
       "  </tbody>\n",
       "</table>\n",
       "</div>"
      ],
      "text/plain": [
       "     sepal length (cm)  sepal width (cm)  petal length (cm)  petal width (cm)  \\\n",
       "73                 6.1               2.8                4.7               1.2   \n",
       "18                 5.7               3.8                1.7               0.3   \n",
       "118                7.7               2.6                6.9               2.3   \n",
       "78                 6.0               2.9                4.5               1.5   \n",
       "76                 6.8               2.8                4.8               1.4   \n",
       "\n",
       "     target  \n",
       "73        1  \n",
       "18        0  \n",
       "118       2  \n",
       "78        1  \n",
       "76        1  "
      ]
     },
     "execution_count": 3,
     "metadata": {},
     "output_type": "execute_result"
    }
   ],
   "source": [
    "df_iris.sample(5, random_state=42)"
   ]
  },
  {
   "cell_type": "code",
   "execution_count": 4,
   "metadata": {
    "hidden": true
   },
   "outputs": [
    {
     "data": {
      "image/png": "[encoded data removed]",
      "text/plain": [
       "<Figure size 576x360 with 1 Axes>"
      ]
     },
     "metadata": {
      "needs_background": "light"
     },
     "output_type": "display_data"
    }
   ],
   "source": [
    "fig, ax = plt.subplots(figsize=(8, 5))\n",
    "\n",
    "# Iterate through each type of flower and plot them using different colors\n",
    "for flower in df_iris['target'].unique():\n",
    "    subset_df = df_iris[df_iris['target'] == flower]\n",
    "    x = subset_df['sepal length (cm)']\n",
    "    y = subset_df['petal length (cm)']\n",
    "    \n",
    "    ax.scatter(x, y, label=data['target_names'][flower])\n",
    "\n",
    "# Label your axes!\n",
    "ax.set_ylabel('petal length (cm)')\n",
    "ax.set_xlabel('sepal length (cm)')\n",
    "ax.set_title('Petal length vs Sepal Length for Three Species of Flowers')\n",
    "ax.legend();"
   ]
  },
  {
   "cell_type": "markdown",
   "metadata": {
    "hidden": true
   },
   "source": [
    "What information in this graph jumps out to you?"
   ]
  },
  {
   "cell_type": "markdown",
   "metadata": {
    "hidden": true
   },
   "source": [
    "# your thoughts here\n",
    "Variability in the range of sepal length for each species follows variation in the length of petals.\n",
    "\n",
    "Setosa seems to have the least variability (points are tighter) compared to versicolor and virginica\n"
   ]
  },
  {
   "cell_type": "markdown",
   "metadata": {
    "heading_collapsed": true,
    "hidden": true
   },
   "source": [
    "## The Effectiveness of Visualizations"
   ]
  },
  {
   "cell_type": "markdown",
   "metadata": {
    "hidden": true
   },
   "source": [
    "- People are highly visual and can synthesize visual information much more quickly than rows and columns of numbers \n",
    "- Precognitive understanding of the data\n",
    "- Visual representations can be much more viscerally persuasive \n",
    "- Visuals can help us identify patterns in the data to investigate"
   ]
  },
  {
   "cell_type": "markdown",
   "metadata": {
    "heading_collapsed": true
   },
   "source": [
    "# What Makes an Effective Visualization?"
   ]
  },
  {
   "cell_type": "markdown",
   "metadata": {
    "hidden": true
   },
   "source": [
    "Today, we want to focus on making data visualizations that an audience can easily comprehend and digest. These visualizations are typically referred to as **explanatory** visualizations. \n",
    "\n",
    "Our goal in explanatory visualizations is to convey/communicate your insight(s) effectively to our audience. That audience can be other data scientist but could also be stakeholders unfamiliar with data analysis or statistical concepts."
   ]
  },
  {
   "cell_type": "markdown",
   "metadata": {
    "hidden": true
   },
   "source": [
    "> **NOTE**\n",
    ">\n",
    "> There are visualizations that have the goal in helping us (data scientists) better understand the data as we explore it. These are usually referred to as **exploratory** visualizations. These types of visualizations don't usually have to be as clean and tidy as _explanatory_ visualizations."
   ]
  },
  {
   "cell_type": "markdown",
   "metadata": {
    "hidden": true
   },
   "source": [
    "- Each graph should have a clear point it is trying to make. Understanding the insight you are trying to convey will guide the decision making process for what kind of graph will be most effective\n",
    "\n",
    "- Know your audience! Come up with a use case and audience to pitch your visualizations\n",
    "\n",
    "- Choosing the correct graph for the relationship you are trying to communicate\n",
    "\n",
    "- Label your axes and graph! It should not be difficult for someone to understand what your graph is trying to represent\n",
    "\n",
    "- People have unconscious responses to visuals which will effect the way they interpret information. Good visualization makes use of these natural shortcuts in cognition to convey information more efficiently\n",
    "    - Red and Down tends to be negative while Green and Up is positive\n",
    "    - Lighter hues are seen as lower values and darker is higher values\n",
    "    - Axis start at zero\n",
    "        \n",
    "__Note:__ All of these 'rules' can be broken but know that you will be working against most people's first instinct"
   ]
  },
  {
   "cell_type": "markdown",
   "metadata": {
    "heading_collapsed": true,
    "hidden": true
   },
   "source": [
    "## Anatomy of Visualizations"
   ]
  },
  {
   "cell_type": "markdown",
   "metadata": {
    "heading_collapsed": true,
    "hidden": true
   },
   "source": [
    "### Length & Size\n",
    "\n",
    "> Showing the effect (careful about area....)"
   ]
  },
  {
   "cell_type": "markdown",
   "metadata": {
    "hidden": true
   },
   "source": [
    "+ Bar charts\n",
    "+ Stacked bar charts\n",
    "+ Scatter plot"
   ]
  },
  {
   "cell_type": "markdown",
   "metadata": {
    "hidden": true
   },
   "source": [
    "![](https://seaborn.pydata.org/_images/seaborn-barplot-111.png)"
   ]
  },
  {
   "cell_type": "markdown",
   "metadata": {
    "hidden": true
   },
   "source": [
    "![](http://thedailyviz.com/wp-content/uploads/2012/08/guns-620x415.png')"
   ]
  },
  {
   "cell_type": "markdown",
   "metadata": {
    "hidden": true
   },
   "source": [
    "![](https://seaborn.pydata.org/_images/scatterplot_19_0.png)"
   ]
  },
  {
   "cell_type": "markdown",
   "metadata": {
    "heading_collapsed": true,
    "hidden": true
   },
   "source": [
    "### Color\n",
    "\n",
    "> To draw specific findings (contrast)"
   ]
  },
  {
   "cell_type": "markdown",
   "metadata": {
    "hidden": true
   },
   "source": [
    "+ Scatter plots\n",
    "+ Bar charts (sometimes....)"
   ]
  },
  {
   "cell_type": "markdown",
   "metadata": {
    "hidden": true
   },
   "source": [
    "![](https://seaborn.pydata.org/_images/scatterplot_13_0.png)\n",
    "![](https://seaborn.pydata.org/_images/seaborn-barplot-10.png)"
   ]
  },
  {
   "cell_type": "markdown",
   "metadata": {
    "heading_collapsed": true,
    "hidden": true
   },
   "source": [
    "### Shape\n",
    "\n",
    "> Distinguish different points"
   ]
  },
  {
   "cell_type": "markdown",
   "metadata": {
    "hidden": true
   },
   "source": [
    "![](https://seaborn.pydata.org/_images/scatterplot_9_0.png)"
   ]
  },
  {
   "cell_type": "markdown",
   "metadata": {
    "heading_collapsed": true,
    "hidden": true
   },
   "source": [
    "### Angle \n",
    "\n",
    "> ***DON'T USE THIS!!!*** Usually prone to lots of misinterpretations"
   ]
  },
  {
   "cell_type": "markdown",
   "metadata": {
    "hidden": true
   },
   "source": [
    "+ Pie Chart 🤬\n",
    "+ Donut Chart (pie charts in disguise!)\n",
    "+ Racetrack Chart"
   ]
  },
  {
   "cell_type": "markdown",
   "metadata": {
    "hidden": true
   },
   "source": [
    "![](https://static1.squarespace.com/static/55b6a6dce4b089e11621d3ed/55b6d08fe4b0d8b921b02f83/55b6d0b6e4b0d8b921b03a36/1438044342911/1000w/)\n",
    "\n",
    "\n",
    "![](https://policyviz.com/wp-content/uploads/2018/02/share-of-us-agricultural-exports-value-01-1140x700.png)\n",
    "\n",
    "\n",
    "![](https://i.stack.imgur.com/w4sB9.png)"
   ]
  },
  {
   "cell_type": "markdown",
   "metadata": {
    "heading_collapsed": true,
    "hidden": true
   },
   "source": [
    "## What Types Work Well Consistently"
   ]
  },
  {
   "cell_type": "markdown",
   "metadata": {
    "hidden": true
   },
   "source": [
    "Experts and researchers found the best visual patterns humans identify well:\n",
    "\n",
    "> - Positional changes (scatter plots)\n",
    "> - Length changes (bar charts)"
   ]
  },
  {
   "cell_type": "markdown",
   "metadata": {
    "hidden": true
   },
   "source": [
    "But we're bad at understanding other patterns...\n",
    "\n",
    "> - Color hue changes \n",
    "> - Area changes (pie charts!)"
   ]
  },
  {
   "cell_type": "markdown",
   "metadata": {
    "heading_collapsed": true,
    "hidden": true
   },
   "source": [
    "## How to Lie with Graphs"
   ]
  },
  {
   "cell_type": "markdown",
   "metadata": {
    "hidden": true
   },
   "source": [
    "- Graphs can be misleading\n",
    "- Consciously or unconsciously people will make decisions to lead people towards their conclusions of the data"
   ]
  },
  {
   "cell_type": "markdown",
   "metadata": {
    "hidden": true
   },
   "source": [
    "- Examples of dark patterns\n",
    "    - Changing the axis scale\n",
    "    - Using two different y axis scales to compare trends\n",
    "    - Showing cumulative data which will always be increasing to hide a downturn in a trend\n",
    "    - Pie charts (comparing degrees is not something people are good at) just use a bar chart\n",
    "    - Inconsistent units\n",
    "    - Not showing all of the data for motivated reasons\n",
    "    - Percentages not adding up to 100"
   ]
  },
  {
   "cell_type": "markdown",
   "metadata": {
    "hidden": true
   },
   "source": [
    "<img src=\"images/pie-chart-misleading.png\">\n",
    "\n",
    "image: http://flowingdata.com/2009/11/26/fox-news-makes-the-best-pie-chart-ever/"
   ]
  },
  {
   "cell_type": "markdown",
   "metadata": {
    "heading_collapsed": true,
    "hidden": true
   },
   "source": [
    "## Exercise: Picking Proper Plots"
   ]
  },
  {
   "cell_type": "markdown",
   "metadata": {
    "hidden": true
   },
   "source": [
    "Now that we've seen a few different visualizations, let's have a quick quiz in deciding would be a good plot for a given scenario:"
   ]
  },
  {
   "cell_type": "markdown",
   "metadata": {
    "heading_collapsed": true,
    "hidden": true
   },
   "source": [
    "###  Scenario 1"
   ]
  },
  {
   "cell_type": "markdown",
   "metadata": {
    "hidden": true
   },
   "source": [
    "> **SCENARIO**: We have a company's past financial reports. We want to compare how a company's revenue has done over these past few years."
   ]
  },
  {
   "cell_type": "markdown",
   "metadata": {
    "hidden": true
   },
   "source": [
    "🤔 _What type of visualization do you choose?_"
   ]
  },
  {
   "cell_type": "code",
   "execution_count": null,
   "metadata": {},
   "outputs": [],
   "source": [
    "line graph"
   ]
  },
  {
   "cell_type": "markdown",
   "metadata": {
    "hidden": true
   },
   "source": [
    "<details>\n",
    "    <summary>Possible Answers</summary>\n",
    "    <ul>\n",
    "        <li>Line Plot</li>\n",
    "        <li>Bar Chart</li>\n",
    "    </ul>\n",
    "</details>"
   ]
  },
  {
   "cell_type": "markdown",
   "metadata": {
    "heading_collapsed": true,
    "hidden": true
   },
   "source": [
    "###  Scenario 2"
   ]
  },
  {
   "cell_type": "markdown",
   "metadata": {
    "hidden": true
   },
   "source": [
    "> **SCENARIO**: We're given a company's last quarterly report on sales from its  website. We want to show the relationship of the number of orders broken down by the type of device the order was placed on."
   ]
  },
  {
   "cell_type": "markdown",
   "metadata": {
    "hidden": true
   },
   "source": [
    "🤔 _What type of visualization do you choose?_"
   ]
  },
  {
   "cell_type": "markdown",
   "metadata": {
    "hidden": true
   },
   "source": [
    "<details>\n",
    "    <summary>Possible Answers</summary>\n",
    "    <ul>\n",
    "        <li>Bar Chart</li>\n",
    "        <li>Stacked Bar Chart</li>\n",
    "    </ul>\n",
    "</details>"
   ]
  },
  {
   "cell_type": "markdown",
   "metadata": {
    "heading_collapsed": true,
    "hidden": true
   },
   "source": [
    "###  Scenario 3"
   ]
  },
  {
   "cell_type": "markdown",
   "metadata": {
    "hidden": true
   },
   "source": [
    "> **SCENARIO**: A food delivery service has a breakdown of this past week's orders. We want to show the relationship of the tips given in relation to the total bill."
   ]
  },
  {
   "cell_type": "markdown",
   "metadata": {
    "hidden": true
   },
   "source": [
    "🤔 _What type of visualization do you choose?_"
   ]
  },
  {
   "cell_type": "markdown",
   "metadata": {
    "hidden": true
   },
   "source": [
    "<details>\n",
    "    <summary>Possible Answers</summary>\n",
    "    <ul>\n",
    "        <li>Scatter Plot</li>\n",
    "    </ul>\n",
    "</details>"
   ]
  },
  {
   "cell_type": "markdown",
   "metadata": {
    "heading_collapsed": true
   },
   "source": [
    "# Creating Data Visualization with `matplotlib`"
   ]
  },
  {
   "cell_type": "markdown",
   "metadata": {
    "hidden": true
   },
   "source": [
    "There are [lots](https://python-graph-gallery.com) of different ways of plotting data! (See also [this page](https://datavizproject.com/).)"
   ]
  },
  {
   "cell_type": "markdown",
   "metadata": {
    "hidden": true
   },
   "source": [
    "We will make heavy use of:\n",
    "\n",
    "- bar plots\n",
    "- box plots\n",
    "- histograms\n",
    "- line plots\n",
    "- scatter plots"
   ]
  },
  {
   "cell_type": "markdown",
   "metadata": {
    "hidden": true
   },
   "source": [
    "These can all be handled by `matplotlib` and `seaborn`. These packages are great for data that exists in `pandas` DataFrames (or `numpy` arrays), and so they will often be very useful for us."
   ]
  },
  {
   "cell_type": "markdown",
   "metadata": {
    "heading_collapsed": true,
    "hidden": true
   },
   "source": [
    "## Anatomy of `matplotlib` Figure"
   ]
  },
  {
   "cell_type": "markdown",
   "metadata": {
    "hidden": true
   },
   "source": [
    "<img src=\"images/matplotlib_anatomy.png\">"
   ]
  },
  {
   "cell_type": "markdown",
   "metadata": {
    "hidden": true
   },
   "source": [
    "Explanation of non-obvious terms:\n",
    "\n",
    "__Figure__ - This is the \"sheet of paper\" all of your graphing sits on. \n",
    "\n",
    "__Axis__ - An axis is an individual plot. You can have multiple axes on one figure\n",
    "\n",
    "__Major/Minor Ticks__ - The large and small dashes on the x and y axis\n",
    "\n",
    "__Markers__ - In a scatter plot each of the points is refered to as a marker\n",
    "\n",
    "__Spines__ - The lines that bound each axis"
   ]
  },
  {
   "cell_type": "markdown",
   "metadata": {
    "heading_collapsed": true,
    "hidden": true
   },
   "source": [
    "## Plotting Syntax"
   ]
  },
  {
   "cell_type": "markdown",
   "metadata": {
    "hidden": true
   },
   "source": [
    "- There are many different ways to create plots but we will strongly suggest using the subplots method\n",
    "    - Useful for extensibility \n",
    "    - Access to the figure and individual axis in a plot\n",
    "    - More fine-grained control of customizing your plot\n",
    "    - Easily create additional axis on your figure\n",
    "    - Good level of abstraction\n",
    "        - You can go deeper into the api but this should give you immediate access to most tools you will need for whatever plot you are making\n",
    "    - Flatiron Specifc\n",
    "        - Plotting code will be more easily readable for other students and instructors\n",
    "        - You don’t need to remember many different ways to organize your code"
   ]
  },
  {
   "cell_type": "code",
   "execution_count": null,
   "metadata": {},
   "outputs": [],
   "source": [
    "#slices_of_pie = 6\n",
    "#slices_eaten = 0\n",
    "\n",
    "# add your while loop here that achieves the same results as the for loop above\n",
    "#def sliceopie(slices_of_pie):\n",
    "slices_of_pie = 6\n",
    "slices_eaten = 0\n",
    "while slices_of_pie <= 6:\n",
    "    slices_eaten += 1\n",
    "    slices_of_pie -= 1\n",
    "    print(f'Another slice eaten!\\n Now eaten {slices_eaten} slices!')\n",
    "        \n",
    "sliceopie()"
   ]
  },
  {
   "cell_type": "markdown",
   "metadata": {
    "hidden": true
   },
   "source": [
    "Here are links to the [matplotlib documentation](https://matplotlib.org/index.html) as well as the [Axes object documentation](https://matplotlib.org/api/axes_api.html):"
   ]
  },
  {
   "cell_type": "markdown",
   "metadata": {
    "hidden": true
   },
   "source": [
    "We will now walk through some common charts and their uses, while practicing our `matplotlib` syntax."
   ]
  },
  {
   "cell_type": "markdown",
   "metadata": {
    "heading_collapsed": true,
    "hidden": true
   },
   "source": [
    "### Common Charts and Their Uses"
   ]
  },
  {
   "cell_type": "markdown",
   "metadata": {
    "heading_collapsed": true,
    "hidden": true
   },
   "source": [
    "#### Scatter Plots"
   ]
  },
  {
   "cell_type": "markdown",
   "metadata": {
    "hidden": true
   },
   "source": [
    "Scatter plots are very common.  They allow one to visualize the relationship of two variables. "
   ]
  },
  {
   "cell_type": "markdown",
   "metadata": {
    "hidden": true
   },
   "source": [
    "In the plots below, we see different correlations between variables:"
   ]
  },
  {
   "cell_type": "code",
   "execution_count": null,
   "metadata": {
    "hidden": true
   },
   "outputs": [],
   "source": [
    "penguins = sns.load_dataset('penguins')"
   ]
  },
  {
   "cell_type": "code",
   "execution_count": null,
   "metadata": {
    "hidden": true
   },
   "outputs": [],
   "source": [
    "penguins.head()"
   ]
  },
  {
   "cell_type": "code",
   "execution_count": null,
   "metadata": {
    "hidden": true
   },
   "outputs": [],
   "source": [
    "# This is the plotting syntax we recommend. Note that plt.subplots()\n",
    "# returns a _double_: the figure object and the axis object.\n",
    "\n",
    "fig, ax = plt.subplots()\n",
    "\n",
    "ax.scatter(penguins['flipper_length_mm'], penguins['body_mass_g'])\n",
    "ax.set_xlabel('Flipper Length')\n",
    "ax.set_ylabel('Body Mass')\n",
    "ax.set_title('Positive Correlation btwn Flipper Length and Body Mass among Penguins')\n",
    "\n",
    "plt.tight_layout()"
   ]
  },
  {
   "cell_type": "code",
   "execution_count": null,
   "metadata": {
    "hidden": true
   },
   "outputs": [],
   "source": [
    "# You will also see this syntax, but it gives you less control over\n",
    "# the plot! What similarities and differences do you see between\n",
    "# this syntax and the subplots syntax?\n",
    "\n",
    "plt.scatter(penguins['flipper_length_mm'], penguins['body_mass_g'])\n",
    "plt.xlabel('Flipper Length')\n",
    "plt.ylabel('Body Mass')\n",
    "plt.title('Positive Correlation btwn Flipper Length and Body Mass among Penguins')\n",
    "\n",
    "plt.tight_layout()"
   ]
  },
  {
   "cell_type": "markdown",
   "metadata": {
    "hidden": true
   },
   "source": [
    "We can also change [color](https://matplotlib.org/3.1.0/gallery/color/named_colors.html), opacity, marker size, and [marker symbol](https://matplotlib.org/3.2.1/api/markers_api.html)."
   ]
  },
  {
   "cell_type": "code",
   "execution_count": null,
   "metadata": {
    "hidden": true,
    "scrolled": true
   },
   "outputs": [],
   "source": [
    "fig, ax = plt.subplots()\n",
    "\n",
    "ax.scatter(x=penguins['flipper_length_mm'], y=penguins['body_mass_g'],\n",
    "            c='blue',\n",
    "            alpha=0.5,\n",
    "            s=100,\n",
    "            marker='^')\n",
    "\n",
    "ax.set_xlabel('Flipper Length')\n",
    "ax.set_ylabel('Body Mass')\n",
    "ax.set_title('Positive Correlation btwn Flipper Length and Body Mass among Penguins')\n",
    "\n",
    "\n",
    "plt.tight_layout()"
   ]
  },
  {
   "cell_type": "markdown",
   "metadata": {
    "hidden": true
   },
   "source": [
    "We can also identify colors by hexadecimal code, one each for the amount of red, green, and blue. Values range from '00' to 'ff'."
   ]
  },
  {
   "cell_type": "code",
   "execution_count": null,
   "metadata": {
    "hidden": true
   },
   "outputs": [],
   "source": [
    "fig, ax = plt.subplots()\n",
    "\n",
    "ax.scatter(x=penguins['flipper_length_mm'], y=penguins['species'],\n",
    "            c='#0000ff',\n",
    "            alpha=0.5,\n",
    "            s=30,\n",
    "            marker='^')\n",
    "\n",
    "ax.set_xlabel('Flipper Length')\n",
    "ax.set_ylabel('Species')\n",
    "\n",
    "plt.tight_layout()"
   ]
  },
  {
   "cell_type": "markdown",
   "metadata": {
    "heading_collapsed": true,
    "hidden": true
   },
   "source": [
    "#### Line Plot"
   ]
  },
  {
   "cell_type": "markdown",
   "metadata": {
    "hidden": true
   },
   "source": [
    "Tracks the change of a single variable over time.  They are generally better than bar graphs over shorter periods of time."
   ]
  },
  {
   "cell_type": "markdown",
   "metadata": {
    "hidden": true
   },
   "source": [
    "Here is some code to read in some well worn shampoo sales data over a three year period."
   ]
  },
  {
   "cell_type": "code",
   "execution_count": null,
   "metadata": {
    "hidden": true
   },
   "outputs": [],
   "source": [
    "shampoo = pd.read_csv('data/sales-of-shampoo-over-a-three-ye.csv')[:-1]\n",
    "\n",
    "shampoo"
   ]
  },
  {
   "cell_type": "code",
   "execution_count": null,
   "metadata": {
    "hidden": true
   },
   "outputs": [],
   "source": [
    "fig, ax = plt.subplots()\n",
    "ax.plot(shampoo['Month'],\n",
    "         shampoo['Sales of shampoo over a three year period'],\n",
    "         color='g')\n",
    "ax.set_title('Shampoo Sales Across 3 Years')\n",
    "ax.set_xlabel('Year')\n",
    "ax.set_ylabel('Total Sales');"
   ]
  },
  {
   "cell_type": "markdown",
   "metadata": {
    "hidden": true
   },
   "source": [
    "The xticks are illegible in the plot above."
   ]
  },
  {
   "cell_type": "markdown",
   "metadata": {
    "hidden": true
   },
   "source": [
    "One way to combat that is to try [rotating](https://matplotlib.org/3.1.1/gallery/ticks_and_spines/ticklabels_rotation.html) the ticks.\n",
    "\n",
    "While we're at it, let's also change the [linestyle](https://matplotlib.org/3.1.0/gallery/lines_bars_and_markers/linestyles.html)."
   ]
  },
  {
   "cell_type": "code",
   "execution_count": null,
   "metadata": {
    "hidden": true
   },
   "outputs": [],
   "source": [
    "fig, ax = plt.subplots()\n",
    "\n",
    "ax.plot(shampoo['Month'],\n",
    "         shampoo['Sales of shampoo over a three year period'],\n",
    "         color='g', linestyle='dashdot')\n",
    "ax.set_title('Shampoo Sales Across 3 Years')\n",
    "ax.set_xlabel('Year')\n",
    "ax.set_ylabel('Total Sales')\n",
    "plt.xticks(shampoo['Month'],\n",
    "                   rotation=60);"
   ]
  },
  {
   "cell_type": "markdown",
   "metadata": {
    "hidden": true
   },
   "source": [
    "Maybe better is to make custom ticks:"
   ]
  },
  {
   "cell_type": "code",
   "execution_count": null,
   "metadata": {
    "hidden": true
   },
   "outputs": [],
   "source": [
    "fig, ax = plt.subplots()\n",
    "\n",
    "ax.plot(shampoo.index,\n",
    "        shampoo['Sales of shampoo over a three year period'],\n",
    "        color='g')\n",
    "plt.xticks(range(12, 36, 12), labels=['year_2', 'year_3'])\n",
    "ax.set_title('Shampoo Sales Across 3 Years')\n",
    "ax.set_xlabel('Year')\n",
    "ax.set_ylabel('Total Sales');"
   ]
  },
  {
   "cell_type": "markdown",
   "metadata": {
    "heading_collapsed": true,
    "hidden": true
   },
   "source": [
    "#### Histograms"
   ]
  },
  {
   "cell_type": "markdown",
   "metadata": {
    "hidden": true
   },
   "source": [
    "We will get get further into histograms in Phase 2, but it is good to get familiar with them sooner rather than later. \n",
    "\n",
    "Histograms create uniform bins across the entire range of a continuous variable. They then count the number of data points which fall into each bin.  \n",
    "\n",
    "Histograms are often confused with bar charts, since they look somewhat similar.  The big difference, however, is that histograms visualize the distribution of a continuous variable, rather than the discrete variable shown by barcharts. You can remember this because the bins of histograms don't have spaces between them."
   ]
  },
  {
   "cell_type": "markdown",
   "metadata": {
    "hidden": true
   },
   "source": [
    "![histogram_ex](images/histogram_example.svg)"
   ]
  },
  {
   "cell_type": "code",
   "execution_count": null,
   "metadata": {
    "hidden": true
   },
   "outputs": [],
   "source": [
    "# Here is a histogram of body masses from the Penguins Dataset\n",
    "\n",
    "variable = penguins['flipper_length_mm']\n",
    "\n",
    "fig, ax = plt.subplots()\n",
    "ax.hist(variable, color='magenta')\n",
    "ax.set_xlabel('Flipper Length (mm)');\n",
    "ax.set_ylabel('Count')\n",
    "ax.set_title('Distribution of Penguin Flipper Lengths');"
   ]
  },
  {
   "cell_type": "markdown",
   "metadata": {
    "hidden": true
   },
   "source": [
    "If we want to add multiple plots on one axis, we can simply call the plotting functions one after the other."
   ]
  },
  {
   "cell_type": "code",
   "execution_count": null,
   "metadata": {
    "hidden": true
   },
   "outputs": [],
   "source": [
    "fig, ax = plt.subplots()\n",
    "\n",
    "X = range(10)\n",
    "\n",
    "Y1 = [2*x for x in X]\n",
    "Y2 = [3*x for x in X]\n",
    "\n",
    "ax.plot(X, Y1, c='#ef4209', alpha=0.8)\n",
    "ax.scatter(X, Y2, c='darkgreen', marker='*', s=50);"
   ]
  },
  {
   "cell_type": "markdown",
   "metadata": {
    "heading_collapsed": true,
    "hidden": true
   },
   "source": [
    "## Saving your figures"
   ]
  },
  {
   "cell_type": "code",
   "execution_count": null,
   "metadata": {
    "hidden": true
   },
   "outputs": [],
   "source": [
    "fig, ax = plt.subplots()\n",
    "\n",
    "X = np.linspace(-3, 3, 100)\n",
    "y = X**2\n",
    "ax.plot(X, y)\n",
    "ax.set_title('Parabola with words')\n",
    "ax.text(s='random comment', x=0, y=3)\n",
    "ax.annotate(text='minimum!', xy=(0, 0), xytext=(1, -4),\n",
    "           arrowprops={'facecolor': 'black'});\n",
    "\n",
    "# Let's save it!\n",
    "plt.savefig('images/parabola.png')"
   ]
  },
  {
   "cell_type": "markdown",
   "metadata": {
    "hidden": true
   },
   "source": [
    "Let's make sure the image has been saved!"
   ]
  },
  {
   "cell_type": "markdown",
   "metadata": {
    "heading_collapsed": true,
    "hidden": true
   },
   "source": [
    "## Exercise: Customize Your Visualization"
   ]
  },
  {
   "cell_type": "markdown",
   "metadata": {
    "hidden": true
   },
   "source": [
    "First, let's create a scatter plot from the `penguins` dataset of the length of their bill `bill_length_mm` and length of their flipper `flipper_length_mm`. Make sure you also give a title and axis labels."
   ]
  },
  {
   "cell_type": "code",
   "execution_count": null,
   "metadata": {
    "hidden": true
   },
   "outputs": [],
   "source": [
    "# YOUR CODE HERE"
   ]
  },
  {
   "cell_type": "markdown",
   "metadata": {
    "hidden": true
   },
   "source": [
    "<details>\n",
    "    <summary>Possible Answer</summary>\n",
    "    \n",
    "```python\n",
    "fig, ax = plt.subplots()\n",
    "\n",
    "ax.scatter(penguins['bill_length_mm'], penguins['flipper_length_mm'])\n",
    "ax.set_xlabel('X-AXIS LABEL')\n",
    "ax.set_ylabel('Y-AXIS LABEL')\n",
    "ax.set_title('TITLE')\n",
    "\n",
    "plt.tight_layout()\n",
    "```\n",
    "</details>"
   ]
  },
  {
   "cell_type": "markdown",
   "metadata": {
    "hidden": true
   },
   "source": [
    "Now let's try doing some extra customization. This time, let's change the color and opacity and any other attribute of the scatter plot you made above."
   ]
  },
  {
   "cell_type": "code",
   "execution_count": null,
   "metadata": {
    "hidden": true
   },
   "outputs": [],
   "source": [
    "# YOUR CODE FOR CUSTOMIZING SCATTER PLOT"
   ]
  },
  {
   "cell_type": "markdown",
   "metadata": {
    "hidden": true
   },
   "source": [
    "<details>\n",
    "    <summary>Possible Answer</summary>\n",
    "    \n",
    "```python\n",
    "fig, ax = plt.subplots()\n",
    "\n",
    "ax.scatter(\n",
    "    penguins['bill_length_mm'], \n",
    "    penguins['flipper_length_mm'],\n",
    "    c='green',\n",
    "    alpha=0.3,\n",
    "    s=300,\n",
    "    marker='.'\n",
    ")\n",
    "ax.set_xlabel('X-AXIS LABEL')\n",
    "ax.set_ylabel('Y-AXIS LABEL')\n",
    "ax.set_title('TITLE')\n",
    "\n",
    "plt.tight_layout()\n",
    "```\n",
    "</details>"
   ]
  },
  {
   "cell_type": "markdown",
   "metadata": {
    "heading_collapsed": true
   },
   "source": [
    "# Multiple Plots"
   ]
  },
  {
   "cell_type": "markdown",
   "metadata": {
    "hidden": true
   },
   "source": [
    "Sometimes we want multiple plots to be a part of the same figure."
   ]
  },
  {
   "cell_type": "code",
   "execution_count": null,
   "metadata": {
    "hidden": true
   },
   "outputs": [],
   "source": [
    "fig, ax = plt.subplots(nrows=2, ncols=3, figsize=(8, 6))\n",
    "# The above line gives me a figure with six subplots,\n",
    "# arranged in two rows of three.\n",
    "\n",
    "X = np.linspace(-3, 3, 100)\n",
    "Ys = [[j*x for x in X] for j in range(1, 7)]\n",
    "\n",
    "ax[0, 0].plot(X, Ys[0], c='red')\n",
    "ax[0, 0].set_title('y=x')\n",
    "\n",
    "ax[0, 1].plot(X, Ys[1], c='orange')\n",
    "ax[0, 1].set_title('y=2x')\n",
    "\n",
    "ax[0, 2].plot(X, Ys[2], c='yellow')\n",
    "ax[0, 2].set_title('y=3x')\n",
    "\n",
    "ax[1, 0].plot(X, Ys[3], c='green')\n",
    "ax[1, 0].set_title('y=4x')\n",
    "\n",
    "ax[1, 1].plot(X, Ys[4], c='blue')\n",
    "ax[1, 1].set_title('y=5x')\n",
    "\n",
    "ax[1, 2].plot(X, Ys[5], c='purple')\n",
    "ax[1, 2].set_title('y=6x')\n",
    "\n",
    "plt.tight_layout()"
   ]
  },
  {
   "cell_type": "markdown",
   "metadata": {
    "heading_collapsed": true,
    "hidden": true
   },
   "source": [
    "## Slightly Different Notation"
   ]
  },
  {
   "cell_type": "markdown",
   "metadata": {
    "hidden": true
   },
   "source": [
    "Note we could change the notation to unpack the passed axes in different ways. This can be useful in how we use the axis to make different plots."
   ]
  },
  {
   "cell_type": "code",
   "execution_count": null,
   "metadata": {
    "hidden": true
   },
   "outputs": [],
   "source": [
    "# This saves two arrays of axes representing each row and elements referring to \n",
    "# the columns\n",
    "fig, (ax_row0,ax_row1) = plt.subplots(nrows=2, ncols=3, figsize=(8, 6))\n",
    "\n",
    "Ys = [[j*x for x in X] for j in range(1, 7)]\n",
    "\n",
    "## First Row\n",
    "ax_row0[0].plot(X, Ys[0], c='red')\n",
    "ax_row0[0].set_title('y=x')\n",
    "\n",
    "ax_row0[1].plot(X, Ys[1], c='orange')\n",
    "ax_row0[1].set_title('y=2x')\n",
    "\n",
    "ax_row0[2].plot(X, Ys[2], c='yellow')\n",
    "ax_row0[2].set_title('y=3x')\n",
    "\n",
    "## Second Row\n",
    "ax_row1[0].plot(X, Ys[3], c='green')\n",
    "ax_row1[0].set_title('y=4x')\n",
    "\n",
    "ax_row1[1].plot(X, Ys[4], c='blue')\n",
    "ax_row1[1].set_title('y=5x')\n",
    "\n",
    "ax_row1[2].plot(X, Ys[5], c='purple')\n",
    "ax_row1[2].set_title('y=6x')\n",
    "\n",
    "plt.tight_layout()"
   ]
  },
  {
   "cell_type": "code",
   "execution_count": null,
   "metadata": {
    "hidden": true
   },
   "outputs": [],
   "source": [
    "# This unpacks each axis as a separate variable\n",
    "fig, ((ax00,ax01,ax02),(ax10,ax11,ax12)) = plt.subplots(nrows=2, ncols=3, figsize=(8, 6))\n",
    "\n",
    "Ys = [[j*x for x in X] for j in range(1, 7)]\n",
    "\n",
    "## First Row\n",
    "ax00.plot(X, Ys[0], c='red')\n",
    "ax00.set_title('y=x')\n",
    "\n",
    "ax01.plot(X, Ys[1], c='orange')\n",
    "ax01.set_title('y=2x')\n",
    "\n",
    "ax02.plot(X, Ys[2], c='yellow')\n",
    "ax02.set_title('y=3x')\n",
    "\n",
    "## Second Row\n",
    "ax10.plot(X, Ys[3], c='green')\n",
    "ax10.set_title('y=4x')\n",
    "\n",
    "ax11.plot(X, Ys[4], c='blue')\n",
    "ax11.set_title('y=5x')\n",
    "\n",
    "ax12.plot(X, Ys[5], c='purple')\n",
    "ax12.set_title('y=6x')\n",
    "\n",
    "plt.tight_layout()"
   ]
  },
  {
   "cell_type": "markdown",
   "metadata": {
    "heading_collapsed": true,
    "hidden": true
   },
   "source": [
    "## Customize Multiple Plot Grid"
   ]
  },
  {
   "cell_type": "markdown",
   "metadata": {
    "hidden": true
   },
   "source": [
    "We can add some parameters to `plt.subplots()` that allow us to treat the different axes the same"
   ]
  },
  {
   "cell_type": "code",
   "execution_count": null,
   "metadata": {
    "hidden": true
   },
   "outputs": [],
   "source": [
    "nrows = 2\n",
    "ncols = 3\n",
    "fig, ax = plt.subplots(\n",
    "                nrows=nrows,\n",
    "                ncols=ncols,\n",
    "                figsize=(8, 6),\n",
    "                sharey=True     # This allows for the y-axis to be consistent\n",
    ")\n",
    "\n",
    "\n",
    "Ys = [[j*x for x in X] for j in range(1, 7)]\n",
    "colors = ['red', 'orange', 'yellow', 'green', 'blue', 'purple']\n",
    "n = 0\n",
    "\n",
    "for r in range(nrows):\n",
    "    for c in range(ncols):\n",
    "        ax[r, c].plot(X, Ys[n], c=colors[n])\n",
    "        ax[r, c].set_title(f'y={n+1}x')\n",
    "        n += 1\n",
    "\n",
    "plt.tight_layout()"
   ]
  },
  {
   "cell_type": "code",
   "execution_count": null,
   "metadata": {
    "hidden": true
   },
   "outputs": [],
   "source": [
    "nrows = 2\n",
    "ncols = 3\n",
    "fig, ax = plt.subplots(\n",
    "                nrows=nrows,\n",
    "                ncols=ncols,\n",
    "                figsize=(8, 6),\n",
    "                sharey='row'    # y-axis to be consistent for each row\n",
    ")\n",
    "\n",
    "\n",
    "Ys = [[j*x for x in X] for j in range(1, 7)]\n",
    "colors = ['red', 'orange', 'yellow', 'green', 'blue', 'purple']\n",
    "n = 0\n",
    "\n",
    "for r in range(nrows):\n",
    "    for c in range(ncols):\n",
    "        ax[r, c].plot(X, Ys[n], c=colors[n])\n",
    "        ax[r, c].set_title(f'y={n+1}x')\n",
    "        n += 1\n",
    "\n",
    "plt.tight_layout()"
   ]
  },
  {
   "cell_type": "code",
   "execution_count": null,
   "metadata": {
    "hidden": true
   },
   "outputs": [],
   "source": [
    "nrows = 2\n",
    "ncols = 3\n",
    "fig, ax = plt.subplots(\n",
    "                nrows=nrows,\n",
    "                ncols=ncols,\n",
    "                figsize=(8, 6),\n",
    "                sharey='col'    # y-axis to be consistent for each column\n",
    ")\n",
    "\n",
    "\n",
    "Ys = [[j*x for x in X] for j in range(1, 7)]\n",
    "colors = ['red', 'orange', 'yellow', 'green', 'blue', 'purple']\n",
    "n = 0\n",
    "\n",
    "for r in range(nrows):\n",
    "    for c in range(ncols):\n",
    "        ax[r, c].plot(X, Ys[n], c=colors[n])\n",
    "        ax[r, c].set_title(f'y={n+1}x')\n",
    "        n += 1\n",
    "\n",
    "plt.tight_layout()"
   ]
  },
  {
   "cell_type": "markdown",
   "metadata": {
    "heading_collapsed": true,
    "hidden": true
   },
   "source": [
    "## Multiple Plots Exercise"
   ]
  },
  {
   "cell_type": "markdown",
   "metadata": {
    "hidden": true
   },
   "source": [
    "The function below will plot given numbers (coordinates) in the center of a given subplot:"
   ]
  },
  {
   "cell_type": "code",
   "execution_count": null,
   "metadata": {
    "hidden": true
   },
   "outputs": [],
   "source": [
    "def plot_grid_coor(axis, x, y):\n",
    "    string_to_plot = f'({x},{y})'\n",
    "    axis.text(0.5, 0.5, string_to_plot, fontsize=14, ha='center')\n",
    "    \n",
    "## Example usage\n",
    "fig, ax = plt.subplots()\n",
    "plot_grid_coor(ax,0,0)"
   ]
  },
  {
   "cell_type": "markdown",
   "metadata": {
    "ExecuteTime": {
     "end_time": "2021-04-21T14:46:31.810085Z",
     "start_time": "2021-04-21T14:46:31.722500Z"
    },
    "hidden": true
   },
   "source": [
    "Using the function above, create a 2-by-4 grid of subplots with the coordinate of the grid in the middle. \n",
    "\n",
    "Your result should look something like this:\n",
    "\n",
    "![](images/ex_subplots_solution.png)"
   ]
  },
  {
   "cell_type": "code",
   "execution_count": null,
   "metadata": {
    "hidden": true
   },
   "outputs": [],
   "source": [
    "# Your Code Here"
   ]
  },
  {
   "cell_type": "markdown",
   "metadata": {
    "ExecuteTime": {
     "end_time": "2021-04-21T14:50:00.625565Z",
     "start_time": "2021-04-21T14:50:00.106811Z"
    },
    "hidden": true
   },
   "source": [
    "<details>\n",
    "  <summary>Possible Solution</summary>\n",
    "\n",
    "```python\n",
    "nrows=2\n",
    "ncols=4\n",
    "fig, ax = plt.subplots(nrows=nrows, ncols=ncols, figsize=(12,6)) \n",
    "\n",
    "for i in range(nrows):\n",
    "    for j in range(ncols):\n",
    "        plot_grid_coor(ax[i, j],x=i,y=j)\n",
    "\n",
    "plt.tight_layout()\n",
    "```\n",
    "    \n",
    "</details>"
   ]
  },
  {
   "cell_type": "markdown",
   "metadata": {
    "heading_collapsed": true,
    "hidden": true
   },
   "source": [
    "## Bonus Exercise"
   ]
  },
  {
   "cell_type": "markdown",
   "metadata": {
    "hidden": true
   },
   "source": [
    "Make other tweaks that you've learned to the `plot_grid_coor()` function to customize what will be plotted in each subplot."
   ]
  },
  {
   "cell_type": "code",
   "execution_count": null,
   "metadata": {
    "hidden": true
   },
   "outputs": [],
   "source": [
    "## Make your custom changes to this function\n",
    "def my_plot_grid_coor(axis, x, y):\n",
    "    string_to_plot = f'({x},{y})'\n",
    "    axis.text(0.5, 0.5, string_to_plot, fontsize=14, ha='center')"
   ]
  },
  {
   "cell_type": "markdown",
   "metadata": {
    "heading_collapsed": true
   },
   "source": [
    "# Level Up: Additional Customization"
   ]
  },
  {
   "cell_type": "markdown",
   "metadata": {
    "heading_collapsed": true,
    "hidden": true
   },
   "source": [
    "## Adding Text"
   ]
  },
  {
   "cell_type": "code",
   "execution_count": null,
   "metadata": {
    "hidden": true
   },
   "outputs": [],
   "source": [
    "fig, ax = plt.subplots()\n",
    "\n",
    "X = np.linspace(-3, 3, 100)\n",
    "y = X**2\n",
    "ax.plot(X, y)\n",
    "ax.set_title('Parabola with words')\n",
    "ax.text(s='random comment', x=0, y=3)\n",
    "ax.annotate(text='minimum!', xy=(0, 0), xytext=(1, -4),\n",
    "           arrowprops={'facecolor': 'black'});"
   ]
  },
  {
   "cell_type": "markdown",
   "metadata": {
    "heading_collapsed": true,
    "hidden": true
   },
   "source": [
    "## Style Sheets"
   ]
  },
  {
   "cell_type": "markdown",
   "metadata": {
    "hidden": true
   },
   "source": [
    "[Style Sheets](https://matplotlib.org/3.1.1/gallery/style_sheets/style_sheets_reference.html) can add extra customization to your plots."
   ]
  },
  {
   "cell_type": "code",
   "execution_count": null,
   "metadata": {
    "hidden": true
   },
   "outputs": [],
   "source": [
    "# Uses this \"style\" for the rest of your notebook\n",
    "plt.style.use('fivethirtyeight')"
   ]
  },
  {
   "cell_type": "code",
   "execution_count": null,
   "metadata": {
    "hidden": true
   },
   "outputs": [],
   "source": [
    "## Showing a plot with this style\n",
    "fig, ax = plt.subplots()\n",
    "\n",
    "X = np.linspace(-3, 3, 100)\n",
    "y = X**2\n",
    "ax.plot(X, y)\n",
    "ax.set_title('Parabola with words')\n",
    "ax.text(s='random comment', x=0, y=3)\n",
    "ax.annotate(text='minimum!', xy=(0, 0), xytext=(1, -4),\n",
    "           arrowprops={'facecolor': 'black'});"
   ]
  },
  {
   "cell_type": "code",
   "execution_count": null,
   "metadata": {
    "hidden": true
   },
   "outputs": [],
   "source": [
    "# Go back to the default style \n",
    "plt.style.use('default')"
   ]
  },
  {
   "cell_type": "code",
   "execution_count": null,
   "metadata": {
    "hidden": true
   },
   "outputs": [],
   "source": [
    "## Showing a plot with the default style\n",
    "fig, ax = plt.subplots()\n",
    "\n",
    "X = np.linspace(-3, 3, 100)\n",
    "y = X**2\n",
    "ax.plot(X, y)\n",
    "ax.set_title('Parabola with words')\n",
    "ax.text(s='random comment', x=0, y=3)\n",
    "ax.annotate(text='minimum!', xy=(0, 0), xytext=(1, -4),\n",
    "           arrowprops={'facecolor': 'black'});"
   ]
  },
  {
   "cell_type": "markdown",
   "metadata": {
    "heading_collapsed": true,
    "hidden": true
   },
   "source": [
    "### Context Manager for Temporary Style"
   ]
  },
  {
   "cell_type": "markdown",
   "metadata": {
    "hidden": true
   },
   "source": [
    "We can have temporary style change by using a [context manager for our style](https://matplotlib.org/stable/tutorials/introductory/customizing.html#temporary-styling)."
   ]
  },
  {
   "cell_type": "code",
   "execution_count": null,
   "metadata": {
    "hidden": true
   },
   "outputs": [],
   "source": [
    "# Allows your us to use a temporary style just for the plot in block of code\n",
    "with plt.style.context('ggplot'):\n",
    "    fig, ax = plt.subplots()\n",
    "\n",
    "    X = np.linspace(-3, 3, 100)\n",
    "    y = X**2\n",
    "    ax.plot(X, y)\n",
    "    ax.set_title('Parabola with words')\n",
    "    ax.text(s='random comment', x=0, y=3)\n",
    "    ax.annotate(text='minimum!', xy=(0, 0), xytext=(1, -4),\n",
    "           arrowprops={'facecolor': 'black'});"
   ]
  },
  {
   "cell_type": "markdown",
   "metadata": {
    "heading_collapsed": true,
    "hidden": true
   },
   "source": [
    "### The xkcd Style"
   ]
  },
  {
   "cell_type": "markdown",
   "metadata": {
    "hidden": true
   },
   "source": [
    "The [xkcd style](https://matplotlib.org/stable/api/_as_gen/matplotlib.pyplot.xkcd.html) can be a convenient style when you want to emphasize that the data shouldn't be taken seriously (such as an estimate versus showing real data)."
   ]
  },
  {
   "cell_type": "code",
   "execution_count": null,
   "metadata": {
    "hidden": true
   },
   "outputs": [],
   "source": [
    "# This allows to use the xkcd style temporarily\n",
    "with plt.xkcd():\n",
    "    fig, ax = plt.subplots()\n",
    "\n",
    "    X = np.linspace(-3, 3, 100)\n",
    "    y = X**2\n",
    "    ax.plot(X, y)\n",
    "    ax.set_title('Parabola with words')\n",
    "    ax.text(s='random comment', x=0, y=3)\n",
    "    ax.annotate(text='minimum!', xy=(0, 0), xytext=(1, -4),\n",
    "           arrowprops={'facecolor': 'black'});"
   ]
  },
  {
   "cell_type": "markdown",
   "metadata": {
    "heading_collapsed": true
   },
   "source": [
    "# Level Up: Seaborn"
   ]
  },
  {
   "cell_type": "markdown",
   "metadata": {
    "hidden": true
   },
   "source": [
    "Seaborn is a wrapper around matplotlib which provides a high-level interface for drawing attractive and informative statistical graphics"
   ]
  },
  {
   "cell_type": "markdown",
   "metadata": {
    "hidden": true
   },
   "source": [
    "[Seaborn Gallery](https://seaborn.pydata.org/examples/index.html)\n",
    "\n",
    "[List of Graphing Methods for Seaborn](https://seaborn.pydata.org/api.html#relational-api)"
   ]
  },
  {
   "cell_type": "code",
   "execution_count": null,
   "metadata": {
    "hidden": true
   },
   "outputs": [],
   "source": [
    "# The `style` parameter can be set equal to\n",
    "# 'white', 'dark', 'whitegrid', 'darkgrid', or\n",
    "# 'ticks'\n",
    "\n",
    "sns.set(style='whitegrid')\n",
    "fig, ax = plt.subplots()\n",
    "\n",
    "X = np.linspace(-3, 3, 100)\n",
    "y = X**2\n",
    "ax.plot(X, y);"
   ]
  },
  {
   "cell_type": "markdown",
   "metadata": {
    "heading_collapsed": true,
    "hidden": true
   },
   "source": [
    "### Scatter Plot"
   ]
  },
  {
   "cell_type": "code",
   "execution_count": null,
   "metadata": {
    "hidden": true
   },
   "outputs": [],
   "source": [
    "fig, ax = plt.subplots()\n",
    "\n",
    "x, y = np.random.randn(2, 300)\n",
    "\n",
    "# With Seaborn we can stisll use the subplots syntax by passing our\n",
    "# axis object into the graphing function\n",
    "\n",
    "sns.scatterplot(x=x, y=y, ax=ax)\n",
    "ax.set_ylabel('Cars')\n",
    "ax.set_xlabel('Number of Office Chairs');"
   ]
  },
  {
   "cell_type": "markdown",
   "metadata": {
    "heading_collapsed": true,
    "hidden": true
   },
   "source": [
    "### Violin Plot"
   ]
  },
  {
   "cell_type": "code",
   "execution_count": null,
   "metadata": {
    "hidden": true
   },
   "outputs": [],
   "source": [
    "tips = sns.load_dataset(\"tips\")\n",
    "\n",
    "fig, ax = plt.subplots()\n",
    "\n",
    "sns.violinplot(data=tips, x=\"day\", y=\"total_bill\");"
   ]
  },
  {
   "cell_type": "markdown",
   "metadata": {
    "heading_collapsed": true,
    "hidden": true
   },
   "source": [
    "### Kernel Density Estimation Plot"
   ]
  },
  {
   "cell_type": "code",
   "execution_count": null,
   "metadata": {
    "hidden": true
   },
   "outputs": [],
   "source": [
    "sample = stats.norm.rvs(size=200)\n",
    "\n",
    "sns.kdeplot(sample);"
   ]
  },
  {
   "cell_type": "code",
   "execution_count": null,
   "metadata": {
    "hidden": true
   },
   "outputs": [],
   "source": [
    "sns.kdeplot(sample, bw_adjust=0.3);"
   ]
  },
  {
   "cell_type": "code",
   "execution_count": null,
   "metadata": {
    "hidden": true
   },
   "outputs": [],
   "source": [
    "sns.kdeplot(sample, bw_adjust=0.03);"
   ]
  },
  {
   "cell_type": "code",
   "execution_count": null,
   "metadata": {
    "hidden": true
   },
   "outputs": [],
   "source": [
    "sns.histplot(sample, stat='density', kde=True);"
   ]
  },
  {
   "cell_type": "markdown",
   "metadata": {
    "heading_collapsed": true,
    "hidden": true
   },
   "source": [
    "### Seaborn Datasets"
   ]
  },
  {
   "cell_type": "code",
   "execution_count": null,
   "metadata": {
    "hidden": true
   },
   "outputs": [],
   "source": [
    "sns.get_dataset_names()"
   ]
  },
  {
   "cell_type": "code",
   "execution_count": null,
   "metadata": {
    "hidden": true
   },
   "outputs": [],
   "source": [
    "ans = sns.load_dataset('anscombe')\n",
    "ans.head()"
   ]
  },
  {
   "cell_type": "code",
   "execution_count": null,
   "metadata": {
    "hidden": true
   },
   "outputs": [],
   "source": [
    "fig, ax = plt.subplots()\n",
    "ax.scatter(ans['x'], ans['y'], c=ans['dataset'].map({'I': 1,\n",
    "                                                     'II': 2,\n",
    "                                                     'III': 3,\n",
    "                                                     'IV': 4}));"
   ]
  }
 ],
 "metadata": {
  "kernelspec": {
   "display_name": "Python 3",
   "language": "python",
   "name": "python3"
  },
  "language_info": {
   "codemirror_mode": {
    "name": "ipython",
    "version": 3
   },
   "file_extension": ".py",
   "mimetype": "text/x-python",
   "name": "python",
   "nbconvert_exporter": "python",
   "pygments_lexer": "ipython3",
   "version": "3.8.5"
  },
  "toc": {
   "base_numbering": 1,
   "nav_menu": {},
   "number_sections": true,
   "sideBar": true,
   "skip_h1_title": false,
   "title_cell": "Table of Contents",
   "title_sidebar": "TOC",
   "toc_cell": true,
   "toc_position": {
    "height": "calc(100% - 180px)",
    "left": "10px",
    "top": "150px",
    "width": "292px"
   },
   "toc_section_display": true,
   "toc_window_display": true
  }
 },
 "nbformat": 4,
 "nbformat_minor": 4
}
